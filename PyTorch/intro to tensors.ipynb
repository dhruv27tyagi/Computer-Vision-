{
 "cells": [
  {
   "cell_type": "code",
   "execution_count": 1,
   "id": "fd9d51a1",
   "metadata": {},
   "outputs": [],
   "source": [
    "import torch"
   ]
  },
  {
   "cell_type": "code",
   "execution_count": 2,
   "id": "3f60b812",
   "metadata": {},
   "outputs": [],
   "source": [
    "# Creating tensors"
   ]
  },
  {
   "cell_type": "code",
   "execution_count": 4,
   "id": "a21e264f",
   "metadata": {},
   "outputs": [
    {
     "name": "stdout",
     "output_type": "stream",
     "text": [
      "Scalar tensor is :  tensor(42)\n",
      "Scalar dimension is :  0\n",
      "Scalar tensor shape is :  torch.Size([])\n"
     ]
    }
   ],
   "source": [
    "# 1. Scaler tensor\n",
    "\n",
    "a = 2\n",
    "scalar = torch.tensor(42)\n",
    "print(\"Scalar tensor is : \",scalar)\n",
    "print(\"Scalar dimension is : \",scalar.ndim)\n",
    "print(\"Scalar tensor shape is : \",scalar.shape)"
   ]
  },
  {
   "cell_type": "code",
   "execution_count": 6,
   "id": "bddd292d",
   "metadata": {},
   "outputs": [
    {
     "name": "stdout",
     "output_type": "stream",
     "text": [
      "vector tensor is :  tensor([1, 2, 3])\n",
      "vector dimension is :  1\n",
      "vector tensor shape is :  torch.Size([3])\n"
     ]
    }
   ],
   "source": [
    "# 1D tensor : Vector\n",
    "\n",
    "vector = torch.tensor([1,2,3])\n",
    "print(\"vector tensor is : \",vector)\n",
    "print(\"vector dimension is : \",vector.ndim)\n",
    "print(\"vector tensor shape is : \",vector.shape)"
   ]
  },
  {
   "cell_type": "code",
   "execution_count": 8,
   "id": "e95dd23c",
   "metadata": {},
   "outputs": [
    {
     "name": "stdout",
     "output_type": "stream",
     "text": [
      "matrix tensor is :  tensor([[1, 2],\n",
      "        [3, 4]])\n",
      "matrix dimension is :  2\n",
      "matrix tensor shape is :  torch.Size([2, 2])\n"
     ]
    }
   ],
   "source": [
    "## matrix 2D \n",
    "\n",
    "matrix = torch.tensor([[1,2],[3,4]])\n",
    "print(\"matrix tensor is : \",matrix)\n",
    "print(\"matrix dimension is : \",matrix.ndim)\n",
    "print(\"matrix tensor shape is : \",matrix.shape)"
   ]
  },
  {
   "cell_type": "code",
   "execution_count": 9,
   "id": "a8e02124",
   "metadata": {},
   "outputs": [
    {
     "name": "stdout",
     "output_type": "stream",
     "text": [
      "matrix tensor is :  tensor([[[1, 2],\n",
      "         [3, 4]],\n",
      "\n",
      "        [[5, 6],\n",
      "         [7, 8]]])\n",
      "matrix dimension is :  3\n",
      "matrix tensor shape is :  torch.Size([2, 2, 2])\n"
     ]
    }
   ],
   "source": [
    "# 3D tensor\n",
    "\n",
    "matrix_3D = torch.tensor([\n",
    "                            [[1,2],[3,4]],\n",
    "                            [[5,6],[7,8]]\n",
    "                            ])\n",
    "print(\"matrix tensor is : \",matrix_3D)\n",
    "print(\"matrix dimension is : \",matrix_3D.ndim)\n",
    "print(\"matrix tensor shape is : \",matrix_3D.shape)"
   ]
  },
  {
   "cell_type": "code",
   "execution_count": 11,
   "id": "ab60b46c",
   "metadata": {},
   "outputs": [
    {
     "name": "stdout",
     "output_type": "stream",
     "text": [
      "Tensor on GPU:  tensor([1, 2, 3], device='cuda:0')\n"
     ]
    }
   ],
   "source": [
    "#GPU acceleration \n",
    "\n",
    "if torch.cuda.is_available():\n",
    "    gpu_tensor = vector.to('cuda')\n",
    "    print(\"Tensor on GPU: \", gpu_tensor)\n",
    "else:\n",
    "    print(\"CUDA is not available on this machine\")"
   ]
  },
  {
   "cell_type": "code",
   "execution_count": 13,
   "id": "aa14d31c",
   "metadata": {},
   "outputs": [
    {
     "name": "stdout",
     "output_type": "stream",
     "text": [
      "Data type of matrix:  torch.int64\n",
      "Device of tensor :  cpu\n"
     ]
    }
   ],
   "source": [
    "# Tensor properties \n",
    "\n",
    "print(\"Data type of matrix: \", matrix.dtype)\n",
    "\n",
    "print(\"Device of tensor : \", matrix.device)"
   ]
  },
  {
   "cell_type": "code",
   "execution_count": 14,
   "id": "2b6db775",
   "metadata": {},
   "outputs": [
    {
     "name": "stdout",
     "output_type": "stream",
     "text": [
      "Device of tensor :  cuda:0\n"
     ]
    }
   ],
   "source": [
    "print(\"Device of tensor : \", gpu_tensor.device)"
   ]
  },
  {
   "cell_type": "code",
   "execution_count": 16,
   "id": "626e3b91",
   "metadata": {},
   "outputs": [
    {
     "name": "stdout",
     "output_type": "stream",
     "text": [
      "Tue Sep 16 20:27:08 2025       \n",
      "+-----------------------------------------------------------------------------------------+\n",
      "| NVIDIA-SMI 560.81                 Driver Version: 560.81         CUDA Version: 12.6     |\n",
      "|-----------------------------------------+------------------------+----------------------+\n",
      "| GPU  Name                  Driver-Model | Bus-Id          Disp.A | Volatile Uncorr. ECC |\n",
      "| Fan  Temp   Perf          Pwr:Usage/Cap |           Memory-Usage | GPU-Util  Compute M. |\n",
      "|                                         |                        |               MIG M. |\n",
      "|=========================================+========================+======================|\n",
      "|   0  NVIDIA GeForce RTX 3050 ...  WDDM  |   00000000:01:00.0  On |                  N/A |\n",
      "| N/A   58C    P5             10W /   80W |     354MiB /   4096MiB |      3%      Default |\n",
      "|                                         |                        |                  N/A |\n",
      "+-----------------------------------------+------------------------+----------------------+\n",
      "                                                                                         \n",
      "+-----------------------------------------------------------------------------------------+\n",
      "| Processes:                                                                              |\n",
      "|  GPU   GI   CI        PID   Type   Process name                              GPU Memory |\n",
      "|        ID   ID                                                               Usage      |\n",
      "|=========================================================================================|\n",
      "|    0   N/A  N/A     22972    C+G   C:\\Windows\\explorer.exe                     N/A      |\n",
      "|    0   N/A  N/A     23240      C   ...top\\Computer Vision\\venv\\python.exe      N/A      |\n",
      "+-----------------------------------------------------------------------------------------+\n"
     ]
    }
   ],
   "source": [
    "!nvidia-smi"
   ]
  },
  {
   "cell_type": "code",
   "execution_count": 17,
   "id": "3422d539",
   "metadata": {},
   "outputs": [
    {
     "name": "stdout",
     "output_type": "stream",
     "text": [
      "is tensor on gpu/cuda :  False\n",
      "is tensor on gpu/cuda :  True\n"
     ]
    }
   ],
   "source": [
    "print(\"is tensor on gpu/cuda : \", matrix.is_cuda)\n",
    "print(\"is tensor on gpu/cuda : \", gpu_tensor.is_cuda)"
   ]
  },
  {
   "cell_type": "code",
   "execution_count": 18,
   "id": "ddf4db0d",
   "metadata": {},
   "outputs": [
    {
     "name": "stdout",
     "output_type": "stream",
     "text": [
      "Size :  torch.Size([2, 2])\n"
     ]
    }
   ],
   "source": [
    "print(\"Size : \", matrix.size())"
   ]
  },
  {
   "cell_type": "code",
   "execution_count": 20,
   "id": "509f7a07",
   "metadata": {},
   "outputs": [
    {
     "name": "stdout",
     "output_type": "stream",
     "text": [
      "number of elements:  4\n"
     ]
    }
   ],
   "source": [
    "print(\"number of elements: \", matrix.numel())"
   ]
  },
  {
   "cell_type": "code",
   "execution_count": null,
   "id": "3d432cd4",
   "metadata": {},
   "outputs": [],
   "source": []
  }
 ],
 "metadata": {
  "kernelspec": {
   "display_name": "Python 3",
   "language": "python",
   "name": "python3"
  },
  "language_info": {
   "codemirror_mode": {
    "name": "ipython",
    "version": 3
   },
   "file_extension": ".py",
   "mimetype": "text/x-python",
   "name": "python",
   "nbconvert_exporter": "python",
   "pygments_lexer": "ipython3",
   "version": "3.11.13"
  }
 },
 "nbformat": 4,
 "nbformat_minor": 5
}
