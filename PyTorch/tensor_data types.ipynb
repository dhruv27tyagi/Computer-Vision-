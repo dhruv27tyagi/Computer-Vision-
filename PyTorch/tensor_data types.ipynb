{
 "cells": [
  {
   "cell_type": "code",
   "execution_count": null,
   "id": "b39899be",
   "metadata": {},
   "outputs": [],
   "source": [
    "# data types for tensors\n",
    "\n",
    "# floating ---> for most deep learning tasks ---> float32, float64, float16\n",
    "# int -----> for categorical data or indices ---> int32, int64, int8\n",
    "# boolean ----> used to create mask or logical operation \n",
    "# complex number ----> advanced computation  ---> complex64, complex128\n",
    "\n",
    "# memory consumption - float16 << float32 << float64\n",
    "# computation - lower precision will be faster on gpu\n",
    "\n",
    "# numerical precision - float64 is more precise than float32"
   ]
  },
  {
   "cell_type": "code",
   "execution_count": 1,
   "id": "10118c71",
   "metadata": {},
   "outputs": [],
   "source": [
    "import torch"
   ]
  },
  {
   "cell_type": "code",
   "execution_count": 2,
   "id": "b4f5c722",
   "metadata": {},
   "outputs": [],
   "source": [
    "default_tensor = torch.tensor([1.5,2.5,3.5])"
   ]
  },
  {
   "cell_type": "code",
   "execution_count": 3,
   "id": "e09a862b",
   "metadata": {},
   "outputs": [
    {
     "name": "stdout",
     "output_type": "stream",
     "text": [
      "torch.float32\n"
     ]
    }
   ],
   "source": [
    "print(default_tensor.dtype)"
   ]
  },
  {
   "cell_type": "code",
   "execution_count": 4,
   "id": "8914140f",
   "metadata": {},
   "outputs": [
    {
     "name": "stdout",
     "output_type": "stream",
     "text": [
      "torch.float64\n"
     ]
    }
   ],
   "source": [
    "float_tensor = torch.tensor([1.5,2.5,3.5], dtype = torch.float64)\n",
    "print(float_tensor.dtype)"
   ]
  },
  {
   "cell_type": "code",
   "execution_count": 5,
   "id": "e184f911",
   "metadata": {},
   "outputs": [
    {
     "name": "stdout",
     "output_type": "stream",
     "text": [
      "torch.int64\n",
      "tensor([1, 2, 3])\n"
     ]
    }
   ],
   "source": [
    "int_tensor = torch.tensor([1.5,2.5,3.5], dtype = torch.int64)\n",
    "print(int_tensor.dtype)\n",
    "print(int_tensor)"
   ]
  },
  {
   "cell_type": "code",
   "execution_count": 6,
   "id": "ed2bd766",
   "metadata": {},
   "outputs": [
    {
     "name": "stdout",
     "output_type": "stream",
     "text": [
      "torch.bool\n"
     ]
    }
   ],
   "source": [
    "boolean_tensor = torch.tensor([True, False, True])\n",
    "print(boolean_tensor.dtype)"
   ]
  },
  {
   "cell_type": "code",
   "execution_count": 8,
   "id": "e4debfc1",
   "metadata": {},
   "outputs": [
    {
     "name": "stdout",
     "output_type": "stream",
     "text": [
      "tensor([1.5000, 2.5000, 3.5000])\n",
      "torch.float32\n",
      "tensor([1, 2, 3])\n",
      "torch.int64\n"
     ]
    }
   ],
   "source": [
    "tensor = torch.tensor([1.5,2.5,3.5])\n",
    "print(tensor)\n",
    "print(tensor.dtype)\n",
    "\n",
    "int_tensor = tensor.to(torch.int64) \n",
    "print(int_tensor)\n",
    "print(int_tensor.dtype)"
   ]
  },
  {
   "cell_type": "code",
   "execution_count": null,
   "id": "646b90c6",
   "metadata": {},
   "outputs": [
    {
     "name": "stdout",
     "output_type": "stream",
     "text": [
      "Memory used by float32 tensor :  4000\n",
      "Memory used by float64 tensor :  8000\n"
     ]
    }
   ],
   "source": [
    "# imapct of data types on memory \n",
    "\n",
    "float_32_tensor = torch.ones(1000, dtype=torch.float32)\n",
    "\n",
    "float_64_tensor = torch.ones(1000, dtype=torch.float64)\n",
    "\n",
    "#tensor.element_size()\n",
    "# nelemet()  --> gives the total number of elements in tensor\n",
    "\n",
    "print(\"Memory used by float32 tensor : \",float_32_tensor.element_size() * float_32_tensor.nelement())\n",
    "print(\"Memory used by float64 tensor : \", float_64_tensor.element_size() * float_64_tensor.nelement())"
   ]
  },
  {
   "cell_type": "code",
   "execution_count": null,
   "id": "19b167af",
   "metadata": {},
   "outputs": [],
   "source": []
  }
 ],
 "metadata": {
  "kernelspec": {
   "display_name": "Python 3",
   "language": "python",
   "name": "python3"
  },
  "language_info": {
   "codemirror_mode": {
    "name": "ipython",
    "version": 3
   },
   "file_extension": ".py",
   "mimetype": "text/x-python",
   "name": "python",
   "nbconvert_exporter": "python",
   "pygments_lexer": "ipython3",
   "version": "3.11.13"
  }
 },
 "nbformat": 4,
 "nbformat_minor": 5
}
