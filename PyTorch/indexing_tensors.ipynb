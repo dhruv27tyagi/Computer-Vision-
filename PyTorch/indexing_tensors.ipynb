{
 "cells": [
  {
   "cell_type": "code",
   "execution_count": 1,
   "id": "55e53bd1",
   "metadata": {},
   "outputs": [],
   "source": [
    "## Acessing elements in a tensor\n",
    "\n",
    "'''\n",
    "tesnro[row, column]\n",
    "'''\n",
    "\n",
    "import torch"
   ]
  },
  {
   "cell_type": "code",
   "execution_count": 17,
   "id": "f3006a0c",
   "metadata": {},
   "outputs": [
    {
     "name": "stdout",
     "output_type": "stream",
     "text": [
      "2\n",
      "torch.Size([3, 3])\n"
     ]
    }
   ],
   "source": [
    "tensor = torch.tensor([[10,20,30],[40,50,60],[70,80,90]])\n",
    "print(tensor.ndim)\n",
    "print(tensor.shape)"
   ]
  },
  {
   "cell_type": "code",
   "execution_count": 4,
   "id": "bb5a3774",
   "metadata": {},
   "outputs": [
    {
     "name": "stdout",
     "output_type": "stream",
     "text": [
      "Element at (0,1):  tensor(20)\n"
     ]
    }
   ],
   "source": [
    "print(\"Element at (0,1): \", tensor[0,1])"
   ]
  },
  {
   "cell_type": "code",
   "execution_count": 5,
   "id": "761def0f",
   "metadata": {},
   "outputs": [
    {
     "data": {
      "text/plain": [
       "tensor([10, 20, 30])"
      ]
     },
     "execution_count": 5,
     "metadata": {},
     "output_type": "execute_result"
    }
   ],
   "source": [
    "tensor[0]"
   ]
  },
  {
   "cell_type": "code",
   "execution_count": 6,
   "id": "2c046bed",
   "metadata": {},
   "outputs": [
    {
     "data": {
      "text/plain": [
       "tensor([10, 40, 70])"
      ]
     },
     "execution_count": 6,
     "metadata": {},
     "output_type": "execute_result"
    }
   ],
   "source": [
    "tensor[:,0]"
   ]
  },
  {
   "cell_type": "code",
   "execution_count": 8,
   "id": "4801b14b",
   "metadata": {},
   "outputs": [
    {
     "name": "stdout",
     "output_type": "stream",
     "text": [
      "First two rows : \n",
      " tensor([[10, 20, 30],\n",
      "        [40, 50, 60]])\n"
     ]
    }
   ],
   "source": [
    "# Slicing \n",
    "\n",
    "print(\"First two rows : \\n\", tensor[:2])"
   ]
  },
  {
   "cell_type": "code",
   "execution_count": 9,
   "id": "a0c8ffd6",
   "metadata": {},
   "outputs": [
    {
     "name": "stdout",
     "output_type": "stream",
     "text": [
      "First two columns : \n",
      " tensor([[10, 20],\n",
      "        [40, 50],\n",
      "        [70, 80]])\n"
     ]
    }
   ],
   "source": [
    "print(\"First two columns : \\n\", tensor[:, :2])"
   ]
  },
  {
   "cell_type": "code",
   "execution_count": 10,
   "id": "bd818074",
   "metadata": {},
   "outputs": [
    {
     "name": "stdout",
     "output_type": "stream",
     "text": [
      "tensor([50, 60])\n"
     ]
    }
   ],
   "source": [
    "print(tensor[1, 1:3])"
   ]
  },
  {
   "cell_type": "code",
   "execution_count": 11,
   "id": "4a7e3f69",
   "metadata": {},
   "outputs": [
    {
     "data": {
      "text/plain": [
       "tensor([20, 90])"
      ]
     },
     "execution_count": 11,
     "metadata": {},
     "output_type": "execute_result"
    }
   ],
   "source": [
    "# Fancy Indexing\n",
    "\n",
    "tensor[[0,2],[1,2]]"
   ]
  },
  {
   "cell_type": "code",
   "execution_count": 20,
   "id": "6f394f71",
   "metadata": {},
   "outputs": [
    {
     "name": "stdout",
     "output_type": "stream",
     "text": [
      "tensor([[100,  20,  30],\n",
      "        [200,  50,  60],\n",
      "        [300,  80,  90]])\n"
     ]
    }
   ],
   "source": [
    "tensor[:, 0] = torch.tensor([100,200,300])\n",
    "print(tensor)"
   ]
  },
  {
   "cell_type": "code",
   "execution_count": 21,
   "id": "08cbd75c",
   "metadata": {},
   "outputs": [
    {
     "name": "stdout",
     "output_type": "stream",
     "text": [
      "tensor([[100,  20,  30],\n",
      "        [200,  50,  60]])\n"
     ]
    }
   ],
   "source": [
    "indices = torch.tensor([0,1])\n",
    "selected_rows = torch.index_select(tensor, dim=0, index=indices)\n",
    "print(selected_rows)"
   ]
  },
  {
   "cell_type": "code",
   "execution_count": 22,
   "id": "9a5b97e0",
   "metadata": {},
   "outputs": [
    {
     "name": "stdout",
     "output_type": "stream",
     "text": [
      "tensor([[100,  20,  30],\n",
      "        [200,  50,  60],\n",
      "        [300,  80,  90]])\n"
     ]
    }
   ],
   "source": [
    "print(tensor)"
   ]
  },
  {
   "cell_type": "code",
   "execution_count": 23,
   "id": "f112bf46",
   "metadata": {},
   "outputs": [
    {
     "name": "stdout",
     "output_type": "stream",
     "text": [
      "tensor([[100,  30],\n",
      "        [200,  60],\n",
      "        [300,  90]])\n"
     ]
    }
   ],
   "source": [
    "# using tensor with steps\n",
    "\n",
    "print(tensor[:, ::2])"
   ]
  },
  {
   "cell_type": "code",
   "execution_count": null,
   "id": "ed38c4da",
   "metadata": {},
   "outputs": [],
   "source": []
  }
 ],
 "metadata": {
  "kernelspec": {
   "display_name": "Python 3",
   "language": "python",
   "name": "python3"
  },
  "language_info": {
   "codemirror_mode": {
    "name": "ipython",
    "version": 3
   },
   "file_extension": ".py",
   "mimetype": "text/x-python",
   "name": "python",
   "nbconvert_exporter": "python",
   "pygments_lexer": "ipython3",
   "version": "3.11.13"
  }
 },
 "nbformat": 4,
 "nbformat_minor": 5
}
